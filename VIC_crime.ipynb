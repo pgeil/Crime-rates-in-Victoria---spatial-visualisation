{
 "cells": [
  {
   "cell_type": "markdown",
   "metadata": {},
   "source": [
    "# Crime rates in Victoria - spatial visualisation"
   ]
  },
  {
   "cell_type": "markdown",
   "metadata": {},
   "source": [
    "<img src=\"images/Crimestoppers_RGB.png\", width=250, height=250, ALIGN=\"right\">\n",
    "This instructional notebook investigates the reported crime rates in Victoria, Australia. This is by no means production code, it's designed to explain some of the steps involved in analysing and visualising data spatially.\n",
    "\n",
    "Author: [Paul Geil](http://www.ph.unimelb.edu.au/~geilp/index.html)\n",
    "\n",
    "Data used here include:\n",
    "\n",
    "- Crime by location from the [Crime Statistics Agency](https://www.crimestatistics.vic.gov.au/) (CSA)\n",
    "- Victorian Local Government Areas from [data.gov.au](https://data.gov.au/dataset/vic-local-government-areas-psma-administrative-boundaries)"
   ]
  },
  {
   "cell_type": "markdown",
   "metadata": {},
   "source": [
    "## Table of contents"
   ]
  },
  {
   "cell_type": "markdown",
   "metadata": {},
   "source": [
    "- [1. Introduction](#1.-Introduction)\n",
    "\n",
    "\n",
    "- [2. Local Government Areas](#2.-Victorian-Local-Government-Areas)\n",
    "\n",
    "\n",
    "- [3. Crime rates](#3.-Crime-rates)\n",
    "    * [3.1 Just the numbers](#3.1-Just-the-numbers)\n",
    "    * [3.2 Spatial visualisation](#3.2-Spatial-visualisation)\n",
    "\n",
    "\n",
    "- [4. Digging deeper into the crime statistics](#4.-Digging-deeper-into-the-crime-statistics)\n",
    "    * [4.1 Crime rate by division](#4.1-Crime-rate-by-division)\n",
    "    * [4.2 Crime rate by subdivision](#4.2-Crime-rate-by-subdivision)\n",
    "    \n",
    "    \n",
    "- [5. Final remarks](#5.-Final-remarks)"
   ]
  },
  {
   "cell_type": "markdown",
   "metadata": {},
   "source": [
    "## 1. Introduction"
   ]
  },
  {
   "cell_type": "markdown",
   "metadata": {},
   "source": [
    "[[ go back to the top ]](#Table-of-contents)"
   ]
  },
  {
   "cell_type": "markdown",
   "metadata": {},
   "source": [
    "This notebook uses several Python packages. Some come standard with the [Anaconda Python distribution](http://continuum.io/downloads), some do not. The primary libraries are:\n",
    "\n",
    "* **[NumPy](http://www.numpy.org/)**: a library which adds support for large, multi-dimensional arrays and matrices, with a large collection of high-level mathematical functions to operate on these arrays.\n",
    "* **[pandas](https://pandas.pydata.org/)**: a library providing high-performance, easy-to-use data structures and data analysis tools.\n",
    "* **[json](https://www.json.org/)**: a decoder/encoder for JSON-formatted files. JSON (JavaScript Object Notation) is a lightweight data-interchange format.\n",
    "* **[folium](https://folium.readthedocs.io/en/latest/)**: an interactive spatial visualisation module using Leaflet maps.\n",
    "* **[bokeh](https://bokeh.pydata.org/en/latest/)**: an interactive visualisation library that targets modern web browsers for presentation.\n",
    "* **[matplotlib](https://matplotlib.org/)**: a basic plotting library; most other plotting libraries are built on top of it.\n",
    "* **[seaborn](https://seaborn.pydata.org/)**: an advanced statistical plotting library.\n",
    "\n",
    "To make sure you have all of the packages you need, install them with `conda`:\n",
    "\n",
    "    conda install numpy pandas matplotlib seaborn\n",
    "\n",
    "Alternatively, if you can install the packages with [pip](https://pip.pypa.io/en/stable/installing/) (a Python package manager):\n",
    "\n",
    "    pip install numpy pandas matplotlib seaborn"
   ]
  },
  {
   "cell_type": "markdown",
   "metadata": {},
   "source": [
    "## 2. Victorian Local Government Areas"
   ]
  },
  {
   "cell_type": "markdown",
   "metadata": {},
   "source": [
    "[[ go back to the top ]](#Table-of-contents)"
   ]
  },
  {
   "cell_type": "markdown",
   "metadata": {},
   "source": [
    "The statistics explored in this notebook have been aggregated by local government area (LGA). LGA boundary data is available from the Australain Government data repository [here](https://data.gov.au/dataset/vic-local-government-areas-psma-administrative-boundaries).\n",
    "\n",
    "For the purpose of this notebook we'll use data in the form of a GeoJSON file. [GeoJSON](http://geojson.org/) is a geospatial data interchange format based on JavaScript Object Notation (JSON).\n",
    "\n",
    "Governmental/professional spatial (Geo)JSON files are typically large due to the large number of vertices (i.e. resolution). It's possible to reduce their resolution (this process is called *simplification*). One example command-line tool for this is [`mapshaper`](https://github.com/mbloch/mapshaper). I've used `mapshaper` to reduce the GeoJSON datafile from 18.8MB to 500kb. The bash script I've used (`geojson_simplify.sh`) can be found in the `data` directory of this repo."
   ]
  },
  {
   "cell_type": "code",
   "execution_count": null,
   "metadata": {
    "collapsed": true
   },
   "outputs": [],
   "source": [
    "import json\n",
    "\n",
    "with open('data/VIC_LGA_simplified.geojson') as f:\n",
    "    json_data = json.load(f)"
   ]
  },
  {
   "cell_type": "markdown",
   "metadata": {},
   "source": [
    "A quick way to visualise GeoJSON data is with the python module `folium`. Let's take a look at the Victorian LGA boundaries. This map is intereactive - explore!"
   ]
  },
  {
   "cell_type": "code",
   "execution_count": null,
   "metadata": {
    "collapsed": true
   },
   "outputs": [],
   "source": [
    "kw_VIC = {'location': [-36.5, 145.], 'zoom_start': 7}\n",
    "\n",
    "import folium\n",
    "from folium import GeoJson\n",
    "\n",
    "m = folium.Map(tiles='cartodbpositron', **kw_VIC)\n",
    "GeoJson(json_data).add_to(m)\n",
    "m"
   ]
  },
  {
   "cell_type": "markdown",
   "metadata": {},
   "source": [
    "While `folium` is an easy-to-use module, it does lack some features and aesthetics. We'll use `bokeh` for the rest of this notebook. In order to do so, we need to do some manual extraction of data from the GeoJSON file, so let's take a closer look at the structure and contents of the file.\n",
    "\n",
    "The GeoJSON file is a collection of *features*. Each feature in the file contains data for an individual LGA. The first feature contains the following data:"
   ]
  },
  {
   "cell_type": "code",
   "execution_count": null,
   "metadata": {
    "collapsed": true
   },
   "outputs": [],
   "source": [
    "json_data['features'][0]"
   ]
  },
  {
   "cell_type": "markdown",
   "metadata": {},
   "source": [
    "*geometry* contains a list of *coordinates* (in the form of a polygon, or linear ring of latitudes and longitudes) representing the LGA boundary. *properties* contains additional data about the LGA (such as names and ids). We'll be using the geometric data, the `vic_lga__3` property (LGA name) and the `lg_ply_pid` property (a unique identifier for each polygon).\n",
    "\n",
    "Note that some LGAs have multiple, unconnected polygons (e.g. Bass Coast), therefore the mapping from `lg_ply_pid` to `vic_lga__3` is many-to-one. Also, there are some features in the collection that don't have geometric data.\n",
    "\n",
    "Let's extract the data we need from all features with geometric data, and for later convenience put this data into a `pandas` dataframe.. At the same time, we can write a [python dictionary](https://docs.python.org/2/tutorial/datastructures.html#dictionaries) that links unique polygon identifiers to their LGA name."
   ]
  },
  {
   "cell_type": "code",
   "execution_count": null,
   "metadata": {
    "collapsed": true
   },
   "outputs": [],
   "source": [
    "names = []       # Name of LGA polygon belongs to\n",
    "unique_ids = []  # Unique id of polygon\n",
    "xs = []          # Longitudes\n",
    "ys = []          # Latitudes\n",
    "id_dict = {}\n",
    "for feat in json_data['features']:\n",
    "    if feat[\"geometry\"] is not None:\n",
    "        name = feat[\"properties\"]['vic_lga__3']\n",
    "        unique_id = feat[\"properties\"]['lg_ply_pid']\n",
    "        names.append(name)\n",
    "        unique_ids.append(unique_id)\n",
    "        xs.append([x[0] for x in feat[\"geometry\"][\"coordinates\"][0]])\n",
    "        ys.append([y[1] for y in feat[\"geometry\"][\"coordinates\"][0]])\n",
    "        id_dict[unique_id] = name\n",
    "        \n",
    "import pandas as pd\n",
    "\n",
    "data = [('Unique ID', unique_ids), ('LGA', names), ('Longs', xs), ('Lats', ys)]\n",
    "json_df = pd.DataFrame.from_items(data)"
   ]
  },
  {
   "cell_type": "markdown",
   "metadata": {},
   "source": [
    "The first 5 rows of data are:"
   ]
  },
  {
   "cell_type": "code",
   "execution_count": null,
   "metadata": {
    "collapsed": true
   },
   "outputs": [],
   "source": [
    "json_df.head()"
   ]
  },
  {
   "cell_type": "markdown",
   "metadata": {},
   "source": [
    "We'll revisit this data later when we try to merge crime rate data."
   ]
  },
  {
   "cell_type": "markdown",
   "metadata": {},
   "source": [
    "## 3. Crime rates"
   ]
  },
  {
   "cell_type": "markdown",
   "metadata": {},
   "source": [
    "[[ go back to the top ]](#Table-of-contents)"
   ]
  },
  {
   "cell_type": "markdown",
   "metadata": {},
   "source": [
    "### 3.1 Just the numbers"
   ]
  },
  {
   "cell_type": "markdown",
   "metadata": {},
   "source": [
    "[[ go back to the top ]](#Table-of-contents)"
   ]
  },
  {
   "cell_type": "markdown",
   "metadata": {},
   "source": [
    "Crime by location (LGA) for the year ending June 2017 data is available from the Crime Statistics Agency [here](https://www.crimestatistics.vic.gov.au/crime-statistics/latest-crime-data/download-data-4) as a Comma-Spearated Values (CSV) file.\n",
    "\n",
    "Let's explore the dataset using `pandas`."
   ]
  },
  {
   "cell_type": "code",
   "execution_count": null,
   "metadata": {
    "collapsed": true
   },
   "outputs": [],
   "source": [
    "with open('data/Crime by location_2_LGA - year ending June 2017.csv') as f:\n",
    "    crime_df = pd.read_csv(f, thousands=',')"
   ]
  },
  {
   "cell_type": "markdown",
   "metadata": {},
   "source": [
    "The first 5 rows of data are:"
   ]
  },
  {
   "cell_type": "code",
   "execution_count": null,
   "metadata": {
    "collapsed": true
   },
   "outputs": [],
   "source": [
    "crime_df.head()"
   ]
  },
  {
   "cell_type": "markdown",
   "metadata": {},
   "source": [
    "The CSA [Explanatory Notes](https://www.crimestatistics.vic.gov.au/about-the-data/explanatory-notes) provide additional information about the data the CSA receives from Victoria Police, how it is processed and how to interpret the summary statistics. From these notes we find that ERP stands for Estimated Resident Population. This can be used to calculate the offence rate per 100000 people in the LGA by\n",
    "\n",
    "Rate = (Offence count / LGA ERP) * 100000\n",
    "\n",
    "Doing this we have:"
   ]
  },
  {
   "cell_type": "code",
   "execution_count": null,
   "metadata": {
    "collapsed": true
   },
   "outputs": [],
   "source": [
    "crime_df['Rate'] = (crime_df['Offence Count'] / crime_df['LGA ERP'] * 100000).round().astype('int')\n",
    "crime_df.head()"
   ]
  },
  {
   "cell_type": "markdown",
   "metadata": {},
   "source": [
    "For simplicity, let's tidy things up a little.\n",
    "\n",
    "The `Victorian ERP` column has only one unique value (it's just the Victorian population). Rather than keep the whole column let's just assign the value to the variable `Victorian_ERP`. We may use it later. We won't be needing the Offence Count, LGA ERP or Victorian ERP columns from hereon so let's drop them. While we're at it, let's shorten the `Local Government Area (LGA)` column title to `LGA`."
   ]
  },
  {
   "cell_type": "code",
   "execution_count": null,
   "metadata": {
    "collapsed": true
   },
   "outputs": [],
   "source": [
    "Victorian_ERP = crime_df['Victorian ERP'][0]\n",
    "crime_df = crime_df.drop(['Offence Count', 'LGA ERP', 'Victorian ERP'], axis=1)\n",
    "crime_df.rename(columns = {'Local Government Area (LGA)':'LGA'}, inplace=True)\n",
    "crime_df.head()"
   ]
  },
  {
   "cell_type": "markdown",
   "metadata": {},
   "source": [
    "Out of interest, let's sort the LGAs with respect to crime rate (descending). The five LGAs with highest crime rates for 2017 are:"
   ]
  },
  {
   "cell_type": "code",
   "execution_count": null,
   "metadata": {
    "collapsed": true
   },
   "outputs": [],
   "source": [
    "crime_df.sort_values(by='Rate', ascending=False).head()"
   ]
  },
  {
   "cell_type": "markdown",
   "metadata": {},
   "source": [
    "The five LGAs with lowest crime rates for 2017 are:"
   ]
  },
  {
   "cell_type": "code",
   "execution_count": null,
   "metadata": {
    "collapsed": true
   },
   "outputs": [],
   "source": [
    "crime_df.sort_values(by='Rate', ascending=False).tail()"
   ]
  },
  {
   "cell_type": "markdown",
   "metadata": {},
   "source": [
    "We can get a better idea of the distribution in crime rates in the LGAs through a histogram."
   ]
  },
  {
   "cell_type": "code",
   "execution_count": null,
   "metadata": {
    "collapsed": true
   },
   "outputs": [],
   "source": [
    "import matplotlib.pyplot as plt\n",
    "%matplotlib inline\n",
    "import seaborn as sns\n",
    "\n",
    "ax = sns.distplot(crime_df['Rate'], bins=20, rug=True, kde=False)\n",
    "ax.set_title('VIC crime rates (all crime, year ending June 2017)')\n",
    "ax.set(xlabel='Rate per 100,000 population')\n",
    "plt.show()"
   ]
  },
  {
   "cell_type": "markdown",
   "metadata": {},
   "source": [
    "This looks fairly [normal](https://en.wikipedia.org/wiki/Normal_distribution) with the exception of two outliers. More useful information can be taken from a box plot. "
   ]
  },
  {
   "cell_type": "code",
   "execution_count": null,
   "metadata": {
    "collapsed": true
   },
   "outputs": [],
   "source": [
    "flierprops = dict(marker='o', markerfacecolor='gray', markersize=6)\n",
    "ax = sns.boxplot(x=crime_df['Rate'], width=0.5, flierprops=flierprops)\n",
    "ax.set_title('VIC crime rates (all crime, year ending June 2017)')\n",
    "ax.set(xlabel='Rate per 100,000 population')\n",
    "plt.show()"
   ]
  },
  {
   "cell_type": "markdown",
   "metadata": {},
   "source": [
    "The box shows the quartiles of the dataset while the whiskers extend to show the rest of the distribution, except for points that are determined to be outliers (using a method that is a function of the inter-quartile range).\n",
    "\n",
    "Which LGAs do these outliers correspond to? They are just the two LGAs with highest rates: Melbourne and La Trobe. It may be interesting to follow up on these LGAs, adding more data (e.g. average unemployment rate) and testing for a correlation."
   ]
  },
  {
   "cell_type": "markdown",
   "metadata": {},
   "source": [
    "### 3.2 Spatial visualisation"
   ]
  },
  {
   "cell_type": "markdown",
   "metadata": {},
   "source": [
    "[[ go back to the top ]](#Table-of-contents)"
   ]
  },
  {
   "cell_type": "markdown",
   "metadata": {
    "collapsed": true
   },
   "source": [
    "We should first check if the set of LGAs in the two datafiles (GeoJSON and CSV) match. To do this we can look at their differences."
   ]
  },
  {
   "cell_type": "code",
   "execution_count": null,
   "metadata": {
    "collapsed": true
   },
   "outputs": [],
   "source": [
    "print(list(set(json_df['LGA']) - set(crime_df['LGA'])))"
   ]
  },
  {
   "cell_type": "markdown",
   "metadata": {
    "collapsed": true
   },
   "source": [
    "We want to be able to check the crime rate for any LGA in Victoria. If there are no crime data available then we should be able to see that is the case (e.g. a [`NaN`](https://docs.scipy.org/doc/numpy-1.13.0/user/misc.html) for the rate value). One way to do this is to merge the crime rates we have calculated into the spatial dataframe. However, the rows in the spatial dataframe corresponding to polygons for LGAs we don't have crime data for will not remain after merging. Therefore, we need to create a separate dataframe for any missing spatial data and append it to the merged dataframe. Below, I've written an ad hoc function (`fill_missing_LGAs`) to just this.\n",
    "\n",
    "Comparing the sets of LGAs, we see that there are no crime data for LGAs in the GeoJSON file which end with (UNINC).\n",
    "\n",
    "There is another difference though, that if not treated manually will lead to an omission: COLAC OTWAY. The name of this LGA is hyphenated in the crime data, but not in the GeoJSON file. To fix this, let's rename the LGA name in the crime data to match the json data before merging the dataframes."
   ]
  },
  {
   "cell_type": "code",
   "execution_count": null,
   "metadata": {
    "collapsed": true
   },
   "outputs": [],
   "source": [
    "crime_df.replace('COLAC-OTWAY', 'COLAC OTWAY', inplace=True)"
   ]
  },
  {
   "cell_type": "markdown",
   "metadata": {},
   "source": [
    "The missing rows are:"
   ]
  },
  {
   "cell_type": "code",
   "execution_count": null,
   "metadata": {
    "collapsed": true
   },
   "outputs": [],
   "source": [
    "print(list(set(json_df['LGA']) - set(crime_df['LGA'])))"
   ]
  },
  {
   "cell_type": "code",
   "execution_count": null,
   "metadata": {
    "collapsed": true
   },
   "outputs": [],
   "source": [
    "def fill_missing_LGAs(rate_df, spatial_df):\n",
    "    '''\n",
    "    Adds missing LGA rows in rate_df.\n",
    "    '''\n",
    "    import numpy as np\n",
    "    spatial_LGA_list = list(set(spatial_df['LGA']) - set(rate_df['LGA']))\n",
    "    rates = [np.nan for lga in spatial_LGA_list]\n",
    "    #rates = np.zeros(len(spatial_LGA_list))\n",
    "    data = [('LGA', spatial_LGA_list), ('Rate', rates)]\n",
    "    missing_df = pd.DataFrame.from_items(data)\n",
    "    return rate_df.append(missing_df)"
   ]
  },
  {
   "cell_type": "markdown",
   "metadata": {},
   "source": [
    "Append missing data and merge..."
   ]
  },
  {
   "cell_type": "code",
   "execution_count": null,
   "metadata": {
    "collapsed": true,
    "scrolled": false
   },
   "outputs": [],
   "source": [
    "new_crime_df = fill_missing_LGAs(crime_df, json_df).reset_index(drop=True)\n",
    "df_merged = json_df.merge(new_crime_df, how='right', on='LGA')\n",
    "#df_merged"
   ]
  },
  {
   "cell_type": "markdown",
   "metadata": {},
   "source": [
    "We can now visualise the crime rate data we calculated above using a [choropleth](https://en.wikipedia.org/wiki/Choropleth_map)."
   ]
  },
  {
   "cell_type": "code",
   "execution_count": null,
   "metadata": {
    "collapsed": true
   },
   "outputs": [],
   "source": [
    "from bokeh.models import ColumnDataSource, HoverTool, LogTicker, LinearColorMapper, ColorBar\n",
    "from bokeh.plotting import figure, save, output_notebook, show\n",
    "from bokeh.palettes import YlOrRd7\n",
    "output_notebook()"
   ]
  },
  {
   "cell_type": "code",
   "execution_count": null,
   "metadata": {
    "collapsed": true
   },
   "outputs": [],
   "source": [
    "custom_palette = YlOrRd7[::-1][1:]\n",
    "color_mapper = LinearColorMapper(palette=custom_palette, low=df_merged['Rate'].min(), high=df_merged['Rate'].max())\n",
    "\n",
    "source = ColumnDataSource(data=dict(\n",
    "    x=df_merged['Longs'], y=df_merged['Lats'],\n",
    "    name=df_merged['LGA'], rate=df_merged['Rate']))\n",
    "\n",
    "TOOLS = \"pan,wheel_zoom,reset,hover,save\"\n",
    "\n",
    "p = figure(\n",
    "    title=\"VIC crime rates (all crime, year ending June 2017)\", tools=TOOLS,\n",
    "    x_axis_location=None, y_axis_location=None,\n",
    "    plot_width=850, plot_height=600\n",
    ")\n",
    "p.grid.grid_line_color = None\n",
    "p.patches('x', 'y', source=source,\n",
    "          fill_color={'field': 'rate', 'transform': color_mapper},\n",
    "          fill_alpha=0.8, line_color='black', line_width=0.3)\n",
    "\n",
    "color_bar = ColorBar(color_mapper=color_mapper, ticker=LogTicker(),\n",
    "                     label_standoff=6, border_line_color=None,\n",
    "                     location=(480,560), orientation='horizontal',\n",
    "                     height=15, width=300,\n",
    "                     background_fill_alpha=0, scale_alpha=0.8,\n",
    "                     title='Rate per 100,000 population'\n",
    "                     )\n",
    "p.add_layout(color_bar, 'center')\n",
    "\n",
    "hover = p.select_one(HoverTool)\n",
    "hover.point_policy = \"follow_mouse\"\n",
    "hover.tooltips = [(\"LGA\", \"@name\"),(\"Rate\", \"@rate\")]\n",
    "\n",
    "show(p)"
   ]
  },
  {
   "cell_type": "markdown",
   "metadata": {
    "collapsed": true
   },
   "source": [
    "As you can see, the high crime rate outliers clearly stand out."
   ]
  },
  {
   "cell_type": "markdown",
   "metadata": {},
   "source": [
    "## 4. Digging deeper into the crime statistics"
   ]
  },
  {
   "cell_type": "markdown",
   "metadata": {},
   "source": [
    "[[ go back to the top ]](#Table-of-contents)"
   ]
  },
  {
   "cell_type": "markdown",
   "metadata": {},
   "source": [
    "So far we've only looked at the crime rates for all crimes taken together - we've ignored the type of offence because the dataset we've been working with doesn't include that information. We've also looked at only one year (2017).\n",
    "\n",
    "In order to dig deeper into the crime statistics we need more data. Another CSV datafile available from the CSA is `Crime by location_1_Region_PSA_LGA_OffenceType - year ending June 2017.csv`. Here's what the first few rows look like."
   ]
  },
  {
   "cell_type": "code",
   "execution_count": null,
   "metadata": {
    "collapsed": true
   },
   "outputs": [],
   "source": [
    "with open('data/Crime by location_1_Region_PSA_LGA_OffenceType - year ending June 2017.csv') as f:\n",
    "    crime2_df = pd.read_csv(f, thousands=',')\n",
    "crime2_df.head()"
   ]
  },
  {
   "cell_type": "code",
   "execution_count": null,
   "metadata": {
    "collapsed": true
   },
   "outputs": [],
   "source": [
    "print('Dataframe shape = {0}'.format(crime2_df.shape))\n",
    "print()\n",
    "print('Unique entries in Jul - Jun reference period column:')\n",
    "print('{0}'.format(crime2_df['Jul - Jun reference period'].unique()))\n",
    "print()\n",
    "print('Unique entries in CSA Offence Division:')\n",
    "print('{0}'.format(crime2_df['CSA Offence Division'].unique()))\n",
    "print()\n",
    "print('Unique entries in CSA Offence Subdivision:')\n",
    "print('{0}'.format(crime2_df['CSA Offence Subdivision'].unique()))"
   ]
  },
  {
   "cell_type": "markdown",
   "metadata": {},
   "source": [
    "We can see that this dataframe has:\n",
    "- 26635 rows and 10 columns \n",
    "- historical data over 5 years (despite the file name)\n",
    "- 6 unique broad offence classifications (CSA Offence Division)\n",
    "- each CSA Offence Division has its own CSA Offence Subdivisions and CSA Offense Group\n",
    "\n",
    "Information on the CSA Offence Division can be found [here](https://www.crimestatistics.vic.gov.au/about-the-data/classifications-and-victorian-map-boundaries/offence-classification). We are only interested in the CSA Offence Division at the moment, so for simplicity, let's drop most of the columns we don't need, and rename some others. We also need to change the LGAs to uppercase and the hyphenation for COLAC-OTWAY so as to match the json data."
   ]
  },
  {
   "cell_type": "code",
   "execution_count": null,
   "metadata": {
    "collapsed": true
   },
   "outputs": [],
   "source": [
    "Victorian_ERP = crime2_df['Victorian ERP'][0]\n",
    "crime2_df.drop(['Police Region', 'Police Service Area', 'CSA Offence Group', \\\n",
    "                'Victorian ERP'], axis=1, inplace=True)\n",
    "\n",
    "crime2_df.rename(columns = {'Jul - Jun reference period':'Year', 'Local Government Area':'LGA', \\\n",
    "                            'CSA Offence Division':'Division', 'CSA Offence Subdivision':'Subdivision', \\\n",
    "                            'Offence Count':'Count'}, inplace=True)\n",
    "crime2_df['LGA'] = crime2_df['LGA'].str.upper()\n",
    "crime2_df.replace('COLAC-OTWAY', 'COLAC OTWAY', inplace=True)"
   ]
  },
  {
   "cell_type": "markdown",
   "metadata": {},
   "source": [
    "Together, this 'cleaned-up' dataframe and the spatial data is our starting point for further analysis."
   ]
  },
  {
   "cell_type": "markdown",
   "metadata": {},
   "source": [
    "### 4.1 Crime rate by division"
   ]
  },
  {
   "cell_type": "markdown",
   "metadata": {},
   "source": [
    "[[ go back to the top ]](#Table-of-contents)"
   ]
  },
  {
   "cell_type": "markdown",
   "metadata": {},
   "source": [
    "We now need to aggregate the data appropriately so we have the counts for each offence division in each LGA. We can then calculate the LGA Offence Rate for each LGA and each offence division for years 2013-2017."
   ]
  },
  {
   "cell_type": "code",
   "execution_count": null,
   "metadata": {
    "collapsed": true
   },
   "outputs": [],
   "source": [
    "def rates_by_LGA(df):\n",
    "    '''\n",
    "    Calculates all crime rate by LGA.\n",
    "    '''\n",
    "    df2 = df.pivot_table(index=['Year','LGA','LGA ERP'], values='Count', aggfunc=sum)\n",
    "    df2.reset_index(inplace=True)\n",
    "    df2['Rate'] = (df2['Count'] / df2['LGA ERP'] * 100000).round().astype('int')\n",
    "    return df2\n",
    "\n",
    "def rates_by_LGA_and_div(df, division):\n",
    "    '''\n",
    "    Calculates crime rate by LGA and division.\n",
    "    '''\n",
    "    df2 = df.pivot_table(index=['Year','LGA','Division','LGA ERP'], values='Count', aggfunc=sum)\n",
    "    df2.reset_index(inplace=True)\n",
    "    df2['Rate'] = (df2['Count'] / df2['LGA ERP'] * 100000).round().astype('int')\n",
    "    df2 = df2[df2['Division']==division]\n",
    "    return df2\n",
    "\n",
    "def rates_by_criteria(df, year, division=None, subdivision=None, sort=False):\n",
    "    '''\n",
    "    Calculates crime rate by LGA for a specific division.\n",
    "    '''\n",
    "    if division == None:\n",
    "        df2 = rates_by_LGA(df)\n",
    "        df2 = df2[df2['Year']==year]\n",
    "        if sort:\n",
    "            df2 = df2.sort_values(by='Rate', ascending=False)\n",
    "        return df2.drop(['Year', 'LGA ERP', 'Count'], axis=1)\n",
    "    else:\n",
    "        if subdivision == None:\n",
    "            df2 = rates_by_LGA_and_div(df, division)\n",
    "            df2 = df2[df2['Year']==year]\n",
    "            if sort:\n",
    "                df2 = df2.sort_values(by='Rate', ascending=False)\n",
    "            return df2.drop(['Year', 'LGA ERP', 'Division', 'Count'], axis=1)\n",
    "        else:\n",
    "            df2 = rates_by_LGA_and_div_and_subdiv(df, division, subdivision)\n",
    "            df2 = df2[df2['Year']==year]\n",
    "            if sort:\n",
    "                df2 = df2.sort_values(by='Rate', ascending=False)\n",
    "            return df2.drop(['Year', 'LGA ERP', 'Division', 'Subdivision', 'Count'], axis=1)"
   ]
  },
  {
   "cell_type": "markdown",
   "metadata": {},
   "source": [
    "The LGAs with highest Crimes against the person-related crime rates for 2017 are:"
   ]
  },
  {
   "cell_type": "code",
   "execution_count": null,
   "metadata": {
    "collapsed": true
   },
   "outputs": [],
   "source": [
    "year = 2017\n",
    "division = 'A Crimes against the person'\n",
    "df = rates_by_criteria(crime2_df, year, division=division, sort=True)\n",
    "df.head()"
   ]
  },
  {
   "cell_type": "markdown",
   "metadata": {},
   "source": [
    "Here's the box plot for this distribtion:"
   ]
  },
  {
   "cell_type": "code",
   "execution_count": null,
   "metadata": {
    "collapsed": true
   },
   "outputs": [],
   "source": [
    "ax = sns.boxplot(x=df['Rate'], width=0.5, flierprops=flierprops)\n",
    "ax.set_title('VIC crime rates ({0}, year ending June {1})'.format(division,year))\n",
    "ax.set(xlabel='Rate per 100,000 population')\n",
    "plt.show()"
   ]
  },
  {
   "cell_type": "markdown",
   "metadata": {},
   "source": [
    "Append missing data and merge..."
   ]
  },
  {
   "cell_type": "code",
   "execution_count": null,
   "metadata": {
    "collapsed": true
   },
   "outputs": [],
   "source": [
    "new_df = fill_missing_LGAs(df, json_df)\n",
    "df_merged = json_df.merge(new_df, how='right', on='LGA')"
   ]
  },
  {
   "cell_type": "markdown",
   "metadata": {},
   "source": [
    "And here's the choropleth:"
   ]
  },
  {
   "cell_type": "code",
   "execution_count": null,
   "metadata": {
    "collapsed": true
   },
   "outputs": [],
   "source": [
    "color_mapper = LinearColorMapper(palette=custom_palette,\n",
    "                                 low=df_merged['Rate'][df_merged['Rate'] > 0.1].min(),\n",
    "                                 high=df_merged['Rate'].max())\n",
    "\n",
    "source = ColumnDataSource(data=dict(\n",
    "    x=df_merged['Longs'], y=df_merged['Lats'],\n",
    "    name=df_merged['LGA'], rate=df_merged['Rate']\n",
    "))\n",
    "\n",
    "TOOLS = \"pan,wheel_zoom,reset,hover,save\"\n",
    "\n",
    "p = figure(\n",
    "    title='VIC crime rates ({0}, year ending June {1})'.format(division,year),\n",
    "    tools=TOOLS,\n",
    "    x_axis_location=None, y_axis_location=None,\n",
    "    plot_width=850, plot_height=600\n",
    ")\n",
    "p.grid.grid_line_color = None\n",
    "p.patches('x', 'y', source=source,\n",
    "          fill_color={'field': 'rate', 'transform': color_mapper},\n",
    "          fill_alpha=0.8, line_color='black', line_width=0.3)\n",
    "\n",
    "color_bar = ColorBar(color_mapper=color_mapper, ticker=LogTicker(),\n",
    "                     label_standoff=6, border_line_color=None,\n",
    "                     location=(480,560), orientation='horizontal',\n",
    "                     height=15, width=300,\n",
    "                     background_fill_alpha=0, scale_alpha=0.8,\n",
    "                     title='Rate per 100,000 population'\n",
    "                     )\n",
    "p.add_layout(color_bar, 'center')\n",
    "\n",
    "hover = p.select_one(HoverTool)\n",
    "hover.point_policy = \"follow_mouse\"\n",
    "hover.tooltips = [(\"LGA\", \"@name\"),(\"Rate\", \"@rate\")]\n",
    "\n",
    "show(p)"
   ]
  },
  {
   "cell_type": "markdown",
   "metadata": {
    "collapsed": true
   },
   "source": [
    "### 4.2 Crime rate by subdivision"
   ]
  },
  {
   "cell_type": "markdown",
   "metadata": {},
   "source": [
    "[[ go back to the top ]](#Table-of-contents)"
   ]
  },
  {
   "cell_type": "markdown",
   "metadata": {},
   "source": [
    "I've written an ad hoc function (`rates_by_LGA_and_div_and_subdiv`) to calculate crime rate by LGA for a given division and subdivision. It takes in the 'cleaned-up' `pandas` dataframe (`crime2_df` in our case) and returns another."
   ]
  },
  {
   "cell_type": "code",
   "execution_count": null,
   "metadata": {
    "collapsed": true
   },
   "outputs": [],
   "source": [
    "def rates_by_LGA_and_div_and_subdiv(df, division, subdivision):\n",
    "    '''\n",
    "    Calculates crime rate by LGA, division and subdivision.\n",
    "    '''\n",
    "    df2 = df.pivot_table(index=['Year','LGA','Division','Subdivision','LGA ERP'], values='Count', aggfunc=sum)\n",
    "    df2.reset_index(inplace=True)\n",
    "    df2['Rate'] = (df2['Count'] / df2['LGA ERP'] * 100000).round().astype('int')\n",
    "    df2 = df2[(df2['Division']==division) & (df2['Subdivision']==subdivision)]\n",
    "    return df2"
   ]
  },
  {
   "cell_type": "markdown",
   "metadata": {},
   "source": [
    "Let's us it to find the 2017 results for homicide and related crime rates."
   ]
  },
  {
   "cell_type": "code",
   "execution_count": null,
   "metadata": {
    "collapsed": true
   },
   "outputs": [],
   "source": [
    "year = 2017\n",
    "division = 'A Crimes against the person'\n",
    "subdivision = 'A10 Homicide and related offences'\n",
    "df = rates_by_criteria(crime2_df, year, division=division, subdivision=subdivision, sort=True)\n",
    "df.head()"
   ]
  },
  {
   "cell_type": "code",
   "execution_count": null,
   "metadata": {
    "collapsed": true
   },
   "outputs": [],
   "source": [
    "ax = sns.boxplot(x=df['Rate'], width=0.5, flierprops=flierprops)\n",
    "ax.set_title('VIC crime rates ({0}, year ending June {1})'.format(subdivision,year))\n",
    "ax.set(xlabel='Rate per 100,000 population')\n",
    "plt.show()"
   ]
  },
  {
   "cell_type": "code",
   "execution_count": null,
   "metadata": {
    "collapsed": true
   },
   "outputs": [],
   "source": [
    "new_df = fill_missing_LGAs(df, json_df)\n",
    "df_merged = json_df.merge(new_df, how='right', on='LGA')"
   ]
  },
  {
   "cell_type": "code",
   "execution_count": null,
   "metadata": {
    "collapsed": true
   },
   "outputs": [],
   "source": [
    "color_mapper = LinearColorMapper(palette=custom_palette,\n",
    "                                 low=df_merged['Rate'][df_merged['Rate'] > 0.1].min(),\n",
    "                                 high=df_merged['Rate'].max())\n",
    "\n",
    "source = ColumnDataSource(data=dict(\n",
    "    x=df_merged['Longs'], y=df_merged['Lats'],\n",
    "    name=df_merged['LGA'], rate=df_merged['Rate']\n",
    "))\n",
    "\n",
    "TOOLS = \"pan,wheel_zoom,reset,hover,save\"\n",
    "\n",
    "p = figure(\n",
    "    title='VIC crime rates ({0}, year ending June {1})'.format(subdivision,year),\n",
    "    tools=TOOLS,\n",
    "    x_axis_location=None, y_axis_location=None,\n",
    "    plot_width=850, plot_height=600\n",
    ")\n",
    "p.grid.grid_line_color = None\n",
    "p.patches('x', 'y', source=source,\n",
    "          fill_color={'field': 'rate', 'transform': color_mapper},\n",
    "          fill_alpha=0.8, line_color='black', line_width=0.3)\n",
    "\n",
    "color_bar = ColorBar(color_mapper=color_mapper, ticker=LogTicker(),\n",
    "                     label_standoff=6, border_line_color=None,\n",
    "                     location=(480,560), orientation='horizontal',\n",
    "                     height=15, width=300,\n",
    "                     background_fill_alpha=0, scale_alpha=0.8,\n",
    "                     title='Rate per 100,000 population'\n",
    "                     )\n",
    "p.add_layout(color_bar, 'center')\n",
    "\n",
    "hover = p.select_one(HoverTool)\n",
    "hover.point_policy = \"follow_mouse\"\n",
    "hover.tooltips = [(\"LGA\", \"@name\"),(\"Rate\", \"@rate\")]\n",
    "\n",
    "show(p)"
   ]
  },
  {
   "cell_type": "markdown",
   "metadata": {
    "collapsed": true
   },
   "source": [
    "## 5. Final remarks"
   ]
  },
  {
   "cell_type": "markdown",
   "metadata": {},
   "source": [
    "[[ go back to the top ]](#Table-of-contents)"
   ]
  },
  {
   "cell_type": "markdown",
   "metadata": {},
   "source": [
    "There's clearly many improvements that can be made to the procedures above. As pointed out at the beginning, this is just a walkthrough of the steps involved in analysing and visualising data spatially. The code I've written here is certainly not perfect or optimal... I'm an astrophysicist by trade, not a software engineer (but I'm learning!)\n",
    "\n",
    "A particularly useful improvement would be to include [widgets](https://bokeh.pydata.org/en/latest/docs/user_guide/interaction/widgets.html) (e.g. pull-down selection menus) to save re-running code. This requires writing more functions and [custom JavaScript callbacks](https://bokeh.pydata.org/en/latest/docs/user_guide/interaction/callbacks.html#userguide-interaction-jscallbacks) which is beyond the instructional scope of this notebook. This feature (and more) will be included in a another repo in the future.\n",
    "\n",
    "If you've never created a choropleth before and need to I hope you've found something here of use."
   ]
  },
  {
   "cell_type": "code",
   "execution_count": null,
   "metadata": {
    "collapsed": true
   },
   "outputs": [],
   "source": []
  }
 ],
 "metadata": {
  "hide_input": false,
  "kernelspec": {
   "display_name": "Python 3",
   "language": "python",
   "name": "python3"
  },
  "language_info": {
   "codemirror_mode": {
    "name": "ipython",
    "version": 3
   },
   "file_extension": ".py",
   "mimetype": "text/x-python",
   "name": "python",
   "nbconvert_exporter": "python",
   "pygments_lexer": "ipython3",
   "version": "3.6.1"
  }
 },
 "nbformat": 4,
 "nbformat_minor": 2
}
